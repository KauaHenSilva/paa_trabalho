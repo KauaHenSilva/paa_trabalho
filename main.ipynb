{
 "cells": [
  {
   "cell_type": "code",
   "execution_count": 1,
   "id": "a02d9035",
   "metadata": {},
   "outputs": [],
   "source": [
    "from src.guloso import labirinto_gulosos\n",
    "from src.backtracking import labirinto_backtracking"
   ]
  },
  {
   "cell_type": "code",
   "execution_count": 2,
   "id": "4842660d",
   "metadata": {},
   "outputs": [],
   "source": [
    "maze = [\n",
    "    [0, 0, 1],\n",
    "    [1, 0, 0],\n",
    "    [1, 1, 1]\n",
    "]"
   ]
  },
  {
   "cell_type": "code",
   "execution_count": 3,
   "id": "54d794d0",
   "metadata": {},
   "outputs": [
    {
     "name": "stdout",
     "output_type": "stream",
     "text": [
      "Caminho encontrado (Guloso): [(0, 0), (0, 1), (1, 1), (1, 2)]\n"
     ]
    }
   ],
   "source": [
    "caminho = []\n",
    "visitado = [[False]*len(maze[0]) for _ in range(len(maze))]\n",
    "\n",
    "if labirinto_gulosos(maze, 0, 0, caminho, visitado, (1,2)):\n",
    "    print(\"Caminho encontrado (Guloso):\", caminho)\n",
    "else:\n",
    "    print(\"Nenhum caminho encontrado.\")\n"
   ]
  },
  {
   "cell_type": "code",
   "execution_count": 4,
   "id": "abaf8b08",
   "metadata": {},
   "outputs": [
    {
     "name": "stdout",
     "output_type": "stream",
     "text": [
      "Nenhum caminho encontrado.\n"
     ]
    }
   ],
   "source": [
    "caminho = []\n",
    "visitado = [[False]*len(maze[0]) for _ in range(len(maze))]\n",
    "\n",
    "if labirinto_backtracking(maze, 0, 0, caminho, visitado):\n",
    "    print(\"Caminho encontrado (Backtracking):\", caminho)\n",
    "else:\n",
    "    print(\"Nenhum caminho encontrado.\")"
   ]
  }
 ],
 "metadata": {
  "kernelspec": {
   "display_name": ".venv",
   "language": "python",
   "name": "python3"
  },
  "language_info": {
   "codemirror_mode": {
    "name": "ipython",
    "version": 3
   },
   "file_extension": ".py",
   "mimetype": "text/x-python",
   "name": "python",
   "nbconvert_exporter": "python",
   "pygments_lexer": "ipython3",
   "version": "3.13.3"
  }
 },
 "nbformat": 4,
 "nbformat_minor": 5
}
